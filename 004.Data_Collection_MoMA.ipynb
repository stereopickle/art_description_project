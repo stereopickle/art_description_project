{
 "cells": [
  {
   "cell_type": "markdown",
   "metadata": {},
   "source": [
    "# Data Collection\n",
    "\n",
    "Here I will take information from MoMA Collection.  \n",
    "Information can be found here: https://github.com/MuseumofModernArt/collection"
   ]
  },
  {
   "cell_type": "markdown",
   "metadata": {},
   "source": [
    "## Import data"
   ]
  },
  {
   "cell_type": "code",
   "execution_count": 1,
   "metadata": {},
   "outputs": [],
   "source": [
    "import pandas as pd\n",
    "import numpy as np\n",
    "import nltk\n",
    "%matplotlib inline\n",
    "\n",
    "import time\n",
    "import requests\n",
    "\n",
    "from PIL import Image\n",
    "import pickle"
   ]
  },
  {
   "cell_type": "code",
   "execution_count": 2,
   "metadata": {},
   "outputs": [],
   "source": [
    "pd.options.display.max_columns = None"
   ]
  },
  {
   "cell_type": "code",
   "execution_count": 3,
   "metadata": {},
   "outputs": [
    {
     "output_type": "execute_result",
     "data": {
      "text/plain": "                                               Title  \\\n0  Ferdinandsbrücke Project, Vienna, Austria (Ele...   \n1  City of Music, National Superior Conservatory ...   \n2  Villa near Vienna Project, Outside Vienna, Aus...   \n3  The Manhattan Transcripts Project, New York, N...   \n4  Villa, project, outside Vienna, Austria, Exter...   \n\n                     Artist ConstituentID  \\\n0               Otto Wagner          6210   \n1  Christian de Portzamparc          7470   \n2                Emil Hoppe          7605   \n3           Bernard Tschumi          7056   \n4                Emil Hoppe          7605   \n\n                                   ArtistBio Nationality BeginDate EndDate  \\\n0                      (Austrian, 1841–1918)  (Austrian)    (1841)  (1918)   \n1                        (French, born 1944)    (French)    (1944)     (0)   \n2                      (Austrian, 1876–1957)  (Austrian)    (1876)  (1957)   \n3  (French and Swiss, born Switzerland 1944)          ()    (1944)     (0)   \n4                      (Austrian, 1876–1957)  (Austrian)    (1876)  (1957)   \n\n   Gender  Date                                             Medium  \\\n0  (Male)  1896      Ink and cut-and-pasted painted pages on paper   \n1  (Male)  1987                  Paint and colored pencil on print   \n2  (Male)  1903  Graphite, pen, color pencil, ink, and gouache ...   \n3  (Male)  1980  Photographic reproduction with colored synthet...   \n4  (Male)  1903  Graphite, color pencil, ink, and gouache on tr...   \n\n                           Dimensions  \\\n0  19 1/8 x 66 1/2\" (48.6 x 168.9 cm)   \n1       16 x 11 3/4\" (40.6 x 29.8 cm)   \n2   13 1/2 x 12 1/2\" (34.3 x 31.8 cm)   \n3           20 x 20\" (50.8 x 50.8 cm)   \n4    15 1/8 x 7 1/2\" (38.4 x 19.1 cm)   \n\n                                          CreditLine AccessionNumber  \\\n0  Fractional and promised gift of Jo Carole and ...        885.1996   \n1  Gift of the architect in honor of Lily Auchinc...          1.1995   \n2             Gift of Jo Carole and Ronald S. Lauder          1.1997   \n3  Purchase and partial gift of the architect in ...          2.1995   \n4             Gift of Jo Carole and Ronald S. Lauder          2.1997   \n\n  Classification             Department DateAcquired Cataloged  ObjectID  \\\n0   Architecture  Architecture & Design   1996-04-09         Y         2   \n1   Architecture  Architecture & Design   1995-01-17         Y         3   \n2   Architecture  Architecture & Design   1997-01-15         Y         4   \n3   Architecture  Architecture & Design   1995-01-17         Y         5   \n4   Architecture  Architecture & Design   1997-01-15         Y         6   \n\n                                      URL  \\\n0  http://www.moma.org/collection/works/2   \n1  http://www.moma.org/collection/works/3   \n2  http://www.moma.org/collection/works/4   \n3  http://www.moma.org/collection/works/5   \n4  http://www.moma.org/collection/works/6   \n\n                                        ThumbnailURL  Circumference (cm)  \\\n0  http://www.moma.org/media/W1siZiIsIjU5NDA1Il0s...                 NaN   \n1  http://www.moma.org/media/W1siZiIsIjk3Il0sWyJw...                 NaN   \n2  http://www.moma.org/media/W1siZiIsIjk4Il0sWyJw...                 NaN   \n3  http://www.moma.org/media/W1siZiIsIjEyNCJdLFsi...                 NaN   \n4  http://www.moma.org/media/W1siZiIsIjEyNiJdLFsi...                 NaN   \n\n   Depth (cm)  Diameter (cm)  Height (cm)  Length (cm)  Weight (kg)  \\\n0         NaN            NaN      48.6000          NaN          NaN   \n1         NaN            NaN      40.6401          NaN          NaN   \n2         NaN            NaN      34.3000          NaN          NaN   \n3         NaN            NaN      50.8000          NaN          NaN   \n4         NaN            NaN      38.4000          NaN          NaN   \n\n   Width (cm)  Seat Height (cm)  Duration (sec.)  \n0    168.9000               NaN              NaN  \n1     29.8451               NaN              NaN  \n2     31.8000               NaN              NaN  \n3     50.8000               NaN              NaN  \n4     19.1000               NaN              NaN  ",
      "text/html": "<div>\n<style scoped>\n    .dataframe tbody tr th:only-of-type {\n        vertical-align: middle;\n    }\n\n    .dataframe tbody tr th {\n        vertical-align: top;\n    }\n\n    .dataframe thead th {\n        text-align: right;\n    }\n</style>\n<table border=\"1\" class=\"dataframe\">\n  <thead>\n    <tr style=\"text-align: right;\">\n      <th></th>\n      <th>Title</th>\n      <th>Artist</th>\n      <th>ConstituentID</th>\n      <th>ArtistBio</th>\n      <th>Nationality</th>\n      <th>BeginDate</th>\n      <th>EndDate</th>\n      <th>Gender</th>\n      <th>Date</th>\n      <th>Medium</th>\n      <th>Dimensions</th>\n      <th>CreditLine</th>\n      <th>AccessionNumber</th>\n      <th>Classification</th>\n      <th>Department</th>\n      <th>DateAcquired</th>\n      <th>Cataloged</th>\n      <th>ObjectID</th>\n      <th>URL</th>\n      <th>ThumbnailURL</th>\n      <th>Circumference (cm)</th>\n      <th>Depth (cm)</th>\n      <th>Diameter (cm)</th>\n      <th>Height (cm)</th>\n      <th>Length (cm)</th>\n      <th>Weight (kg)</th>\n      <th>Width (cm)</th>\n      <th>Seat Height (cm)</th>\n      <th>Duration (sec.)</th>\n    </tr>\n  </thead>\n  <tbody>\n    <tr>\n      <th>0</th>\n      <td>Ferdinandsbrücke Project, Vienna, Austria (Ele...</td>\n      <td>Otto Wagner</td>\n      <td>6210</td>\n      <td>(Austrian, 1841–1918)</td>\n      <td>(Austrian)</td>\n      <td>(1841)</td>\n      <td>(1918)</td>\n      <td>(Male)</td>\n      <td>1896</td>\n      <td>Ink and cut-and-pasted painted pages on paper</td>\n      <td>19 1/8 x 66 1/2\" (48.6 x 168.9 cm)</td>\n      <td>Fractional and promised gift of Jo Carole and ...</td>\n      <td>885.1996</td>\n      <td>Architecture</td>\n      <td>Architecture &amp; Design</td>\n      <td>1996-04-09</td>\n      <td>Y</td>\n      <td>2</td>\n      <td>http://www.moma.org/collection/works/2</td>\n      <td>http://www.moma.org/media/W1siZiIsIjU5NDA1Il0s...</td>\n      <td>NaN</td>\n      <td>NaN</td>\n      <td>NaN</td>\n      <td>48.6000</td>\n      <td>NaN</td>\n      <td>NaN</td>\n      <td>168.9000</td>\n      <td>NaN</td>\n      <td>NaN</td>\n    </tr>\n    <tr>\n      <th>1</th>\n      <td>City of Music, National Superior Conservatory ...</td>\n      <td>Christian de Portzamparc</td>\n      <td>7470</td>\n      <td>(French, born 1944)</td>\n      <td>(French)</td>\n      <td>(1944)</td>\n      <td>(0)</td>\n      <td>(Male)</td>\n      <td>1987</td>\n      <td>Paint and colored pencil on print</td>\n      <td>16 x 11 3/4\" (40.6 x 29.8 cm)</td>\n      <td>Gift of the architect in honor of Lily Auchinc...</td>\n      <td>1.1995</td>\n      <td>Architecture</td>\n      <td>Architecture &amp; Design</td>\n      <td>1995-01-17</td>\n      <td>Y</td>\n      <td>3</td>\n      <td>http://www.moma.org/collection/works/3</td>\n      <td>http://www.moma.org/media/W1siZiIsIjk3Il0sWyJw...</td>\n      <td>NaN</td>\n      <td>NaN</td>\n      <td>NaN</td>\n      <td>40.6401</td>\n      <td>NaN</td>\n      <td>NaN</td>\n      <td>29.8451</td>\n      <td>NaN</td>\n      <td>NaN</td>\n    </tr>\n    <tr>\n      <th>2</th>\n      <td>Villa near Vienna Project, Outside Vienna, Aus...</td>\n      <td>Emil Hoppe</td>\n      <td>7605</td>\n      <td>(Austrian, 1876–1957)</td>\n      <td>(Austrian)</td>\n      <td>(1876)</td>\n      <td>(1957)</td>\n      <td>(Male)</td>\n      <td>1903</td>\n      <td>Graphite, pen, color pencil, ink, and gouache ...</td>\n      <td>13 1/2 x 12 1/2\" (34.3 x 31.8 cm)</td>\n      <td>Gift of Jo Carole and Ronald S. Lauder</td>\n      <td>1.1997</td>\n      <td>Architecture</td>\n      <td>Architecture &amp; Design</td>\n      <td>1997-01-15</td>\n      <td>Y</td>\n      <td>4</td>\n      <td>http://www.moma.org/collection/works/4</td>\n      <td>http://www.moma.org/media/W1siZiIsIjk4Il0sWyJw...</td>\n      <td>NaN</td>\n      <td>NaN</td>\n      <td>NaN</td>\n      <td>34.3000</td>\n      <td>NaN</td>\n      <td>NaN</td>\n      <td>31.8000</td>\n      <td>NaN</td>\n      <td>NaN</td>\n    </tr>\n    <tr>\n      <th>3</th>\n      <td>The Manhattan Transcripts Project, New York, N...</td>\n      <td>Bernard Tschumi</td>\n      <td>7056</td>\n      <td>(French and Swiss, born Switzerland 1944)</td>\n      <td>()</td>\n      <td>(1944)</td>\n      <td>(0)</td>\n      <td>(Male)</td>\n      <td>1980</td>\n      <td>Photographic reproduction with colored synthet...</td>\n      <td>20 x 20\" (50.8 x 50.8 cm)</td>\n      <td>Purchase and partial gift of the architect in ...</td>\n      <td>2.1995</td>\n      <td>Architecture</td>\n      <td>Architecture &amp; Design</td>\n      <td>1995-01-17</td>\n      <td>Y</td>\n      <td>5</td>\n      <td>http://www.moma.org/collection/works/5</td>\n      <td>http://www.moma.org/media/W1siZiIsIjEyNCJdLFsi...</td>\n      <td>NaN</td>\n      <td>NaN</td>\n      <td>NaN</td>\n      <td>50.8000</td>\n      <td>NaN</td>\n      <td>NaN</td>\n      <td>50.8000</td>\n      <td>NaN</td>\n      <td>NaN</td>\n    </tr>\n    <tr>\n      <th>4</th>\n      <td>Villa, project, outside Vienna, Austria, Exter...</td>\n      <td>Emil Hoppe</td>\n      <td>7605</td>\n      <td>(Austrian, 1876–1957)</td>\n      <td>(Austrian)</td>\n      <td>(1876)</td>\n      <td>(1957)</td>\n      <td>(Male)</td>\n      <td>1903</td>\n      <td>Graphite, color pencil, ink, and gouache on tr...</td>\n      <td>15 1/8 x 7 1/2\" (38.4 x 19.1 cm)</td>\n      <td>Gift of Jo Carole and Ronald S. Lauder</td>\n      <td>2.1997</td>\n      <td>Architecture</td>\n      <td>Architecture &amp; Design</td>\n      <td>1997-01-15</td>\n      <td>Y</td>\n      <td>6</td>\n      <td>http://www.moma.org/collection/works/6</td>\n      <td>http://www.moma.org/media/W1siZiIsIjEyNiJdLFsi...</td>\n      <td>NaN</td>\n      <td>NaN</td>\n      <td>NaN</td>\n      <td>38.4000</td>\n      <td>NaN</td>\n      <td>NaN</td>\n      <td>19.1000</td>\n      <td>NaN</td>\n      <td>NaN</td>\n    </tr>\n  </tbody>\n</table>\n</div>"
     },
     "metadata": {},
     "execution_count": 3
    }
   ],
   "source": [
    "df = pd.read_csv('data/MoMA_data.csv')\n",
    "df.head()"
   ]
  },
  {
   "cell_type": "markdown",
   "metadata": {},
   "source": [
    "Does not contain description data."
   ]
  },
  {
   "cell_type": "code",
   "execution_count": 4,
   "metadata": {},
   "outputs": [],
   "source": [
    "paintings = df[df.Classification == 'Painting']"
   ]
  },
  {
   "cell_type": "code",
   "execution_count": 15,
   "metadata": {},
   "outputs": [
    {
     "output_type": "execute_result",
     "data": {
      "text/plain": "'http://www.moma.org/media/W1siZiIsIjE2MDU0NiJdLFsicCIsImNvbnZlcnQiLCItcmVzaXplIDMwMHgzMDBcdTAwM2UiXV0.jpg?sha=bda8976e9be36136'"
     },
     "metadata": {},
     "execution_count": 15
    }
   ],
   "source": [
    "paintings.iloc[0]['ThumbnailURL']"
   ]
  },
  {
   "cell_type": "code",
   "execution_count": 5,
   "metadata": {},
   "outputs": [],
   "source": [
    "image_id_set = paintings[['ObjectID', 'ThumbnailURL']]"
   ]
  },
  {
   "cell_type": "code",
   "execution_count": 6,
   "metadata": {},
   "outputs": [
    {
     "output_type": "execute_result",
     "data": {
      "text/plain": "'http://www.moma.org/media/W1siZiIsIjE2MDU0NiJdLFsicCIsImNvbnZlcnQiLCItcmVzaXplIDMwMHgzMDBcdTAwM2UiXV0.jpg?sha=bda8976e9be36136'"
     },
     "metadata": {},
     "execution_count": 6
    }
   ],
   "source": [
    "image_id_set.iloc[0]['ThumbnailURL']"
   ]
  },
  {
   "cell_type": "code",
   "execution_count": 7,
   "metadata": {},
   "outputs": [],
   "source": [
    "resp = requests.get('http://www.moma.org/media/W1siZiIsIjE2MDU0NiJdLFsicCIsImNvbnZlcnQiLCItcmVzaXplIDMwMHgzMDBcdTAwM2UiXV0.jpg?sha=bda8976e9be36136')"
   ]
  },
  {
   "cell_type": "code",
   "execution_count": 17,
   "metadata": {},
   "outputs": [],
   "source": [
    "fpath = f\"data/IMAGES/MOMA_{image_id_set.iloc[0]['ObjectID']}.jpg\""
   ]
  },
  {
   "cell_type": "code",
   "execution_count": 20,
   "metadata": {},
   "outputs": [],
   "source": [
    "# downloading images\n",
    "def download_img(df): \n",
    "    url = str(df['ThumbnailURL'])\n",
    "    if url.startswith('http'):\n",
    "        try:\n",
    "            resp = requests.get(url).content\n",
    "        except:\n",
    "            print('error retrieving')\n",
    "            df['fname'] = 'error'\n",
    "            return df\n",
    "\n",
    "        fpath = f\"data/IMAGES/MOMA_{df['ObjectID']}.jpg\"\n",
    "        print(fpath)\n",
    "        with open(fpath, 'wb') as fp:\n",
    "            fp.write(resp)\n",
    "        df['fname'] = fpath\n",
    "    else:\n",
    "        df['fname'] = None\n",
    "    \n",
    "    pause = np.random.randint(1, 10)\n",
    "    print(f'pausing for {pause} secs ...')\n",
    "    time.sleep(pause) # buffer\n",
    "    \n",
    "    return df"
   ]
  },
  {
   "cell_type": "code",
   "execution_count": null,
   "metadata": {},
   "outputs": [],
   "source": [
    "full_df = paintings.drop_duplicates(subset = 'ObjectID')\n",
    "filename = 'pickles/raw_data_MOMA_1.pkl'\n",
    "full_df.to_pickle(filename)"
   ]
  },
  {
   "cell_type": "code",
   "execution_count": null,
   "metadata": {},
   "outputs": [],
   "source": []
  },
  {
   "cell_type": "code",
   "execution_count": null,
   "metadata": {},
   "outputs": [],
   "source": []
  }
 ],
 "metadata": {
  "kernelspec": {
   "display_name": "Python 3",
   "language": "python",
   "name": "python3"
  },
  "language_info": {
   "codemirror_mode": {
    "name": "ipython",
    "version": 3
   },
   "file_extension": ".py",
   "mimetype": "text/x-python",
   "name": "python",
   "nbconvert_exporter": "python",
   "pygments_lexer": "ipython3",
   "version": "3.7.4-final"
  }
 },
 "nbformat": 4,
 "nbformat_minor": 2
}