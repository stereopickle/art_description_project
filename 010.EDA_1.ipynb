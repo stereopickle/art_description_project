{
 "cells": [
  {
   "cell_type": "markdown",
   "metadata": {},
   "source": [
    "# Exploratory Data Analyses\n",
    "Here I explore the text data we cleaned in Harvard_data. "
   ]
  },
  {
   "cell_type": "code",
   "execution_count": 1,
   "metadata": {},
   "outputs": [],
   "source": [
    "import pandas as pd\n",
    "import numpy as np\n",
    "import matplotlib.pyplot as plt\n",
    "\n",
    "%matplotlib inline"
   ]
  },
  {
   "cell_type": "code",
   "execution_count": 4,
   "metadata": {},
   "outputs": [],
   "source": [
    "df = pd.read_csv('data/clean_df.csv', index_col = 0)\n"
   ]
  },
  {
   "cell_type": "code",
   "execution_count": 30,
   "metadata": {},
   "outputs": [],
   "source": [
    "# removing columns where more than 50% of data are missing info\n",
    "df = df[df.columns[df.isnull().sum()<(len(df)*0.5)]]"
   ]
  },
  {
   "cell_type": "code",
   "execution_count": 36,
   "metadata": {},
   "outputs": [],
   "source": [
    "pd.options.display.max_columns = None"
   ]
  },
  {
   "cell_type": "code",
   "execution_count": 41,
   "metadata": {},
   "outputs": [],
   "source": [
    "# removing some other information we don't need\n",
    "df = df[['id', 'objectnumber', 'title', 'description', 'people', 'colorcount',  'colors', \n",
    "    'datebegin', 'dateend','century','medium', 'culture', 'department', 'division']]"
   ]
  },
  {
   "cell_type": "markdown",
   "metadata": {},
   "source": [
    "# Cultural differences in description\n",
    "First let's see if words used to describe paintings for different cultures are unique. "
   ]
  },
  {
   "cell_type": "code",
   "execution_count": 55,
   "metadata": {},
   "outputs": [],
   "source": [
    "#df.culture.value_counts('culture')"
   ]
  },
  {
   "cell_type": "markdown",
   "metadata": {},
   "source": [
    "For the sake of keeping enough data within each bin, I'll combine some of these culture to larger groups.  \n"
   ]
  },
  {
   "cell_type": "code",
   "execution_count": 53,
   "metadata": {},
   "outputs": [],
   "source": [
    "cnd = [\n",
    "    df.culture.isin(['Korean', 'Japanese', 'Chinese', 'Tibetan', 'Thai']),\n",
    "    (df.culture.str.contains(\"Italian\") | df.culture.isin(['Minoan', 'German', 'British', 'Roman', 'French', \n",
    "                                                           'Spanish', 'Flemish?', 'European', \n",
    "                                                          'Dutch', 'Greek', 'Irish', 'English'])),\n",
    "    df.culture.isin(['American', 'Canadian']), \n",
    "    df.culture.isin(['Indian', 'Mughal'])]\n",
    "vals = ['East_Asian', 'European', 'North_American', 'Indian']\n",
    "df['macro_culture'] = np.select(cnd, vals, default='others')"
   ]
  },
  {
   "cell_type": "code",
   "execution_count": 57,
   "metadata": {},
   "outputs": [
    {
     "data": {
      "text/plain": [
       "East_Asian        0.341113\n",
       "Indian            0.314183\n",
       "North_American    0.195691\n",
       "European          0.086176\n",
       "others            0.062837\n",
       "Name: macro_culture, dtype: float64"
      ]
     },
     "execution_count": 57,
     "metadata": {},
     "output_type": "execute_result"
    }
   ],
   "source": [
    "df.macro_culture.value_counts('macro_culture')"
   ]
  },
  {
   "cell_type": "markdown",
   "metadata": {},
   "source": [
    "## Word Frequencies\n",
    "I'll create a few functions to count the word frequencies and to plot out a word cloud."
   ]
  },
  {
   "cell_type": "code",
   "execution_count": null,
   "metadata": {},
   "outputs": [],
   "source": [
    "from wordcloud import WordCloud"
   ]
  },
  {
   "cell_type": "code",
   "execution_count": null,
   "metadata": {},
   "outputs": [],
   "source": [
    "def count_words(list_):\n",
    "    \"\"\"\n",
    "    input: list of preprocessed strings (refer to data preprocessing)\n",
    "    \"\"\"\n",
    "    wordlist = set_keywords(list_)\n",
    "    uniques = set(wordlist)\n",
    "    counts = dict.fromkeys(uniques, 0)\n",
    "    for word in wordlist:\n",
    "        counts[word] += 1\n",
    "    return {k: v for k, v in sorted(counts.items(), \n",
    "                                    reverse = True, key=lambda item: item[1])}\n",
    "    "
   ]
  },
  {
   "cell_type": "code",
   "execution_count": null,
   "metadata": {},
   "outputs": [],
   "source": []
  },
  {
   "cell_type": "code",
   "execution_count": null,
   "metadata": {},
   "outputs": [],
   "source": []
  },
  {
   "cell_type": "code",
   "execution_count": null,
   "metadata": {},
   "outputs": [],
   "source": []
  },
  {
   "cell_type": "code",
   "execution_count": null,
   "metadata": {},
   "outputs": [],
   "source": []
  },
  {
   "cell_type": "code",
   "execution_count": null,
   "metadata": {},
   "outputs": [],
   "source": []
  },
  {
   "cell_type": "code",
   "execution_count": null,
   "metadata": {},
   "outputs": [],
   "source": []
  },
  {
   "cell_type": "code",
   "execution_count": null,
   "metadata": {},
   "outputs": [],
   "source": []
  },
  {
   "cell_type": "code",
   "execution_count": null,
   "metadata": {},
   "outputs": [],
   "source": []
  },
  {
   "cell_type": "code",
   "execution_count": null,
   "metadata": {},
   "outputs": [],
   "source": [
    "abstract_df = clean_df[(clean_df.description.apply(lambda x: 'abstract' in x))]"
   ]
  },
  {
   "cell_type": "code",
   "execution_count": null,
   "metadata": {},
   "outputs": [],
   "source": [
    "words = sum(abstract_df.description, [])\n",
    "unique = set(words)\n",
    "counts = dict.fromkeys(unique, 0)\n",
    "for w in words: \n",
    "    counts[w] += 1"
   ]
  },
  {
   "cell_type": "code",
   "execution_count": null,
   "metadata": {},
   "outputs": [],
   "source": [
    "counts = {k: v for k, v in sorted(counts.items(), reverse = True, key=lambda item: item[1])}"
   ]
  },
  {
   "cell_type": "code",
   "execution_count": null,
   "metadata": {},
   "outputs": [],
   "source": []
  },
  {
   "cell_type": "code",
   "execution_count": null,
   "metadata": {},
   "outputs": [],
   "source": []
  }
 ],
 "metadata": {
  "kernelspec": {
   "display_name": "Python 3",
   "language": "python",
   "name": "python3"
  },
  "language_info": {
   "codemirror_mode": {
    "name": "ipython",
    "version": 3
   },
   "file_extension": ".py",
   "mimetype": "text/x-python",
   "name": "python",
   "nbconvert_exporter": "python",
   "pygments_lexer": "ipython3",
   "version": "3.7.4"
  }
 },
 "nbformat": 4,
 "nbformat_minor": 2
}
