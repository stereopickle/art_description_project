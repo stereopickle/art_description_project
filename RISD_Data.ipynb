{
 "cells": [
  {
   "cell_type": "markdown",
   "metadata": {},
   "source": [
    "# Data Collection\n",
    "\n",
    "Here I will take information from RISD Museum Collection API.  \n",
    "Documentation can be found here: https://risdmuseum.org/art-design/projects-publications/articles/risd-museum-collection-api"
   ]
  },
  {
   "cell_type": "markdown",
   "metadata": {},
   "source": [
    "## Import data"
   ]
  },
  {
   "cell_type": "code",
   "execution_count": 4,
   "metadata": {},
   "outputs": [],
   "source": [
    "import pandas as pd\n",
    "import numpy as np\n",
    "import requests\n",
    "import json\n",
    "import nltk\n",
    "\n",
    "%matplotlib inline"
   ]
  },
  {
   "cell_type": "code",
   "execution_count": 9,
   "metadata": {},
   "outputs": [],
   "source": [
    "# This API allow loading maximum 25 items at a time. \n",
    "# There are about 3900 works with 'painting' search term in their collection.\n",
    "# So run it through about 156 times.\n",
    "\n",
    "url = \"https://risdmuseum.org/api/v1/collection\" #RISD Museum collection\n",
    "\n",
    "db = []\n",
    "\n",
    "for i in range(156):\n",
    "    resp = requests.get(url, {'search_api_fulltext': 'painting', \n",
    "                'items_per_page': 25, \n",
    "                'page': i})\n",
    "    db.extend(resp.json())\n"
   ]
  },
  {
   "cell_type": "code",
   "execution_count": 30,
   "metadata": {},
   "outputs": [
    {
     "data": {
      "text/plain": [
       "3895"
      ]
     },
     "execution_count": 30,
     "metadata": {},
     "output_type": "execute_result"
    }
   ],
   "source": [
    "df = pd.DataFrame(db)\n",
    "len(df)"
   ]
  },
  {
   "cell_type": "markdown",
   "metadata": {},
   "source": [
    "Since we are interested in descriptions, we will drop data without descriptions."
   ]
  },
  {
   "cell_type": "code",
   "execution_count": 33,
   "metadata": {},
   "outputs": [],
   "source": [
    "# drop items without descriptions\n",
    "df = df[df.description != \"\"]"
   ]
  },
  {
   "cell_type": "markdown",
   "metadata": {},
   "source": [
    "## Data Normalizing\n",
    "Making all description texts lower case and a list of strings"
   ]
  },
  {
   "cell_type": "code",
   "execution_count": 34,
   "metadata": {},
   "outputs": [],
   "source": [
    "# we will run cleaning on the copy of the original dataframe.\n",
    "clean_df = df.copy() "
   ]
  },
  {
   "cell_type": "code",
   "execution_count": 27,
   "metadata": {},
   "outputs": [],
   "source": [
    "import re\n",
    "#nltk.download('stopwords')"
   ]
  },
  {
   "cell_type": "code",
   "execution_count": 35,
   "metadata": {},
   "outputs": [],
   "source": [
    "def normalizing(string):\n",
    "    \"\"\"\n",
    "    Input: string \n",
    "    Return: list of lower case keywords with special characters removed\n",
    "\n",
    "    \"\"\"\n",
    "    # remove special character, lowercase, then remove individual words\n",
    "    return re.sub('[^A-Za-z]+', ' ', string).lower().split() "
   ]
  },
  {
   "cell_type": "markdown",
   "metadata": {},
   "source": [
    "## Removing stopwords\n",
    "Removing words we don't want."
   ]
  },
  {
   "cell_type": "code",
   "execution_count": 16,
   "metadata": {},
   "outputs": [],
   "source": [
    "# Importing stopwords\n",
    "from nltk.corpus import stopwords"
   ]
  },
  {
   "cell_type": "code",
   "execution_count": 17,
   "metadata": {},
   "outputs": [],
   "source": [
    "# Stop words corpus\n",
    "# We'll take from NLTK package and add couple more\n",
    "sw = stopwords.words('english')\n",
    "sw += ['p', 'r', 'l', 'x', 'e']"
   ]
  },
  {
   "cell_type": "code",
   "execution_count": 18,
   "metadata": {},
   "outputs": [],
   "source": [
    "def remove_stop(list_):\n",
    "    \"\"\"\n",
    "    Input: list of words\n",
    "    Return: list of words excluding stopwords\n",
    "    \"\"\"\n",
    "    return [x for x in list_ if x not in sw]"
   ]
  },
  {
   "cell_type": "markdown",
   "metadata": {},
   "source": [
    "## Stemming & Lemmatizing \n",
    "We will use both Porter Stemming and Wordnet Lemmatizing. \n",
    "(For details see Harvard_data file)"
   ]
  },
  {
   "cell_type": "code",
   "execution_count": 23,
   "metadata": {},
   "outputs": [],
   "source": [
    "wnl = nltk.WordNetLemmatizer()\n",
    "porter = nltk.PorterStemmer()\n",
    "\n",
    "def make_keywords(string):\n",
    "    \"\"\"\n",
    "    Input: string of words\n",
    "    Return: list of words excluding stopwords (after normalizing) and lemmatized\n",
    "    \"\"\"\n",
    "    wordslist = remove_stop(normalizing(string))\n",
    "    return list(map(lambda x: wnl.lemmatize(porter.stem(x)), wordslist))\n"
   ]
  },
  {
   "cell_type": "code",
   "execution_count": 37,
   "metadata": {},
   "outputs": [],
   "source": [
    "# finally run on our data\n",
    "clean_df.description = clean_df.description.apply(lambda x: make_keywords(x))"
   ]
  },
  {
   "cell_type": "code",
   "execution_count": 38,
   "metadata": {},
   "outputs": [
    {
     "data": {
      "text/plain": [
       "14      [subject, portrait, august, vestri, son, king,...\n",
       "86      [studi, apostl, agostino, paint, last, supper,...\n",
       "101     [draw, preliminari, design, bracquemond, etch,...\n",
       "122     [douard, manet, complet, paint, eleg, parisian...\n",
       "139     [plump, nake, child, known, putti, appear, wes...\n",
       "                              ...                        \n",
       "3230       [munk, csi, paint, new, york, public, librari]\n",
       "3338    [pierr, narciss, gu, rin, paint, harvard, museum]\n",
       "3381                [solario, paint, mu, du, louvr, pari]\n",
       "3476          [crowd, turkish, men, outsid, build, paint]\n",
       "3504          [raoux, paint, mu, de, beau, art, de, tour]\n",
       "Name: description, Length: 69, dtype: object"
      ]
     },
     "execution_count": 38,
     "metadata": {},
     "output_type": "execute_result"
    }
   ],
   "source": [
    "clean_df.description"
   ]
  },
  {
   "cell_type": "code",
   "execution_count": 39,
   "metadata": {},
   "outputs": [
    {
     "data": {
      "text/html": [
       "<div>\n",
       "<style scoped>\n",
       "    .dataframe tbody tr th:only-of-type {\n",
       "        vertical-align: middle;\n",
       "    }\n",
       "\n",
       "    .dataframe tbody tr th {\n",
       "        vertical-align: top;\n",
       "    }\n",
       "\n",
       "    .dataframe thead th {\n",
       "        text-align: right;\n",
       "    }\n",
       "</style>\n",
       "<table border=\"1\" class=\"dataframe\">\n",
       "  <thead>\n",
       "    <tr style=\"text-align: right;\">\n",
       "      <th></th>\n",
       "      <th>id</th>\n",
       "      <th>collection</th>\n",
       "      <th>credit</th>\n",
       "      <th>culture</th>\n",
       "      <th>dating</th>\n",
       "      <th>datingYearFrom</th>\n",
       "      <th>datingYearTo</th>\n",
       "      <th>description</th>\n",
       "      <th>dimensions</th>\n",
       "      <th>edition</th>\n",
       "      <th>...</th>\n",
       "      <th>publicDomain</th>\n",
       "      <th>recentAcquisition</th>\n",
       "      <th>referenceNumber</th>\n",
       "      <th>relatedObjects</th>\n",
       "      <th>state</th>\n",
       "      <th>support</th>\n",
       "      <th>technique</th>\n",
       "      <th>title</th>\n",
       "      <th>type</th>\n",
       "      <th>url</th>\n",
       "    </tr>\n",
       "  </thead>\n",
       "  <tbody>\n",
       "    <tr>\n",
       "      <td>1043</td>\n",
       "      <td>980991</td>\n",
       "      <td></td>\n",
       "      <td>Helen M. Danforth Acquisition Fund</td>\n",
       "      <td></td>\n",
       "      <td>1890</td>\n",
       "      <td>1890</td>\n",
       "      <td>1890</td>\n",
       "      <td>[support, artist, career, armand, guillaumin, ...</td>\n",
       "      <td>59.7 x 73 cm (23 1/2 x 28 3/4 inches)</td>\n",
       "      <td></td>\n",
       "      <td>...</td>\n",
       "      <td>True</td>\n",
       "      <td>False</td>\n",
       "      <td></td>\n",
       "      <td>[]</td>\n",
       "      <td></td>\n",
       "      <td>[canvas]</td>\n",
       "      <td>[]</td>\n",
       "      <td>The Road Mender (Le Cantonnier)</td>\n",
       "      <td>[Paintings]</td>\n",
       "      <td>https://risdmuseum.org/art-design/collection/r...</td>\n",
       "    </tr>\n",
       "  </tbody>\n",
       "</table>\n",
       "<p>1 rows × 29 columns</p>\n",
       "</div>"
      ],
      "text/plain": [
       "          id collection                              credit culture dating  \\\n",
       "1043  980991             Helen M. Danforth Acquisition Fund           1890   \n",
       "\n",
       "     datingYearFrom datingYearTo  \\\n",
       "1043           1890         1890   \n",
       "\n",
       "                                            description  \\\n",
       "1043  [support, artist, career, armand, guillaumin, ...   \n",
       "\n",
       "                                 dimensions edition  ... publicDomain  \\\n",
       "1043  59.7 x 73 cm (23 1/2 x 28 3/4 inches)          ...         True   \n",
       "\n",
       "     recentAcquisition referenceNumber relatedObjects state   support  \\\n",
       "1043             False                             []        [canvas]   \n",
       "\n",
       "      technique                            title         type  \\\n",
       "1043         []  The Road Mender (Le Cantonnier)  [Paintings]   \n",
       "\n",
       "                                                    url  \n",
       "1043  https://risdmuseum.org/art-design/collection/r...  \n",
       "\n",
       "[1 rows x 29 columns]"
      ]
     },
     "execution_count": 39,
     "metadata": {},
     "output_type": "execute_result"
    }
   ],
   "source": [
    "clean_df[(clean_df.description.apply(lambda x: 'abstract' in x))]"
   ]
  },
  {
   "cell_type": "code",
   "execution_count": null,
   "metadata": {},
   "outputs": [],
   "source": []
  }
 ],
 "metadata": {
  "kernelspec": {
   "display_name": "Python 3",
   "language": "python",
   "name": "python3"
  },
  "language_info": {
   "codemirror_mode": {
    "name": "ipython",
    "version": 3
   },
   "file_extension": ".py",
   "mimetype": "text/x-python",
   "name": "python",
   "nbconvert_exporter": "python",
   "pygments_lexer": "ipython3",
   "version": "3.7.4"
  }
 },
 "nbformat": 4,
 "nbformat_minor": 2
}
